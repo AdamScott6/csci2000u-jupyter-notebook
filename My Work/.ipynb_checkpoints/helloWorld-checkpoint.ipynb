{
 "cells": [
  {
   "cell_type": "markdown",
   "id": "ca557a0d",
   "metadata": {},
   "source": [
    "# Tutorial 2 - Hello World #\n",
    "\n",
    "Uncomment and run the cell below to test your environment and complete your task."
   ]
  },
  {
   "cell_type": "code",
   "execution_count": 2,
   "id": "0d21515e",
   "metadata": {},
   "outputs": [
    {
     "name": "stdout",
     "output_type": "stream",
     "text": [
      "2021-09-23 17:55:41.982560\n"
     ]
    }
   ],
   "source": [
    "import datetime\n",
    "\n",
    "print(datetime.datetime.now())"
   ]
  },
  {
   "cell_type": "markdown",
   "id": "85b7e824",
   "metadata": {},
   "source": [
    "Add your name and student ID\n",
    "\n",
    "**Name:** Adam Scott\n",
    "\n",
    "**Student ID:** 100785312"
   ]
  },
  {
   "cell_type": "code",
   "execution_count": null,
   "id": "bedc9f2f",
   "metadata": {},
   "outputs": [],
   "source": []
  }
 ],
 "metadata": {
  "kernelspec": {
   "display_name": "Python 3 (ipykernel)",
   "language": "python",
   "name": "python3"
  },
  "language_info": {
   "codemirror_mode": {
    "name": "ipython",
    "version": 3
   },
   "file_extension": ".py",
   "mimetype": "text/x-python",
   "name": "python",
   "nbconvert_exporter": "python",
   "pygments_lexer": "ipython3",
   "version": "3.8.12"
  }
 },
 "nbformat": 4,
 "nbformat_minor": 5
}
