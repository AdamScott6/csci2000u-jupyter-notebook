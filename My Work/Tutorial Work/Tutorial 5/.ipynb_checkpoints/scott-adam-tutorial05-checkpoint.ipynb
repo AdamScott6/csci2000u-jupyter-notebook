{
 "cells": [
  {
   "cell_type": "markdown",
   "metadata": {},
   "source": [
    "Name: Adam Scott\n",
    "    \n",
    "Student number: 100785312"
   ]
  },
  {
   "cell_type": "markdown",
   "metadata": {},
   "source": [
    "# CSCI2000U - Scientific Data Analysis\n",
    "## Tutorial 05: Working with NumPy\n",
    "\n",
    "**Goal**\n",
    "1. Understanding the differences between python list and numpy array\n",
    "\n",
    "Similarities:\n",
    "1. Both a list and array are mutable, it means that you can replace or change one of the data in a list or array.\n",
    "2. Both a list and an array can be indexed, it means that you can access the data from a list or an array through their indexes and you can also use the slicing operations on both of them.\n",
    "\n",
    "Differences:\n",
    "1. A list cannot directly handle a mathematical operations, while array can.\n",
    "2. A list can store different data types and can consist of different nested data size.\n",
    "3. A list is easier to modify than an array does. Since a list store each element individually, it is easier to add and delete an element than an array does.\n",
    "4. Using an array is faster than a list and takes less spaces than a list.\n",
    "\n",
    "In this tutorial, we will explore the similarities and differences between python list and numpy array. Solve each of the tasks outlined in this document to complete you tutorial assignment.\n",
    "\n",
    "- Importing libraries"
   ]
  },
  {
   "cell_type": "code",
   "execution_count": 64,
   "metadata": {},
   "outputs": [],
   "source": [
    "import numpy"
   ]
  },
  {
   "cell_type": "markdown",
   "metadata": {},
   "source": [
    "### Working with lists in python\n",
    "\n",
    "- Suppose we have a list of rectangles and their dimensions"
   ]
  },
  {
   "cell_type": "code",
   "execution_count": 65,
   "metadata": {},
   "outputs": [
    {
     "data": {
      "text/plain": [
       "[[4, 5], [5, 5], [10, 1], [2.4, 4.5], [1.7, 5.6]]"
      ]
     },
     "execution_count": 65,
     "metadata": {},
     "output_type": "execute_result"
    }
   ],
   "source": [
    "shapes = [[4, 5],\n",
    "          [5, 5],\n",
    "          [10, 1],\n",
    "          [2.4, 4.5],\n",
    "          [1.7, 5.6]]\n",
    "shapes"
   ]
  },
  {
   "cell_type": "markdown",
   "metadata": {},
   "source": [
    "### TASK 1\n",
    "\n",
    "**Calculate the areas of these shapes, and save the result in a list**\n",
    "\n",
    "We will create an empty list to store the areas of each of the rectangles.\n",
    "\n",
    "We will loop through each of the nested lists and multiply the width and height for each rectangle."
   ]
  },
  {
   "cell_type": "code",
   "execution_count": 66,
   "metadata": {},
   "outputs": [
    {
     "name": "stdout",
     "output_type": "stream",
     "text": [
      "[20, 25, 10, 10.799999999999999, 9.52]\n"
     ]
    }
   ],
   "source": [
    "# Your solution\n",
    "shape_dimens = []\n",
    "for shape in shapes:\n",
    "    shape_dimens.append(shape[0] * shape[1])\n",
    "print(shape_dimens)"
   ]
  },
  {
   "cell_type": "markdown",
   "metadata": {},
   "source": [
    "### TASK 2\n",
    "\n",
    "**Calculate the total area of all of these shapes**\n",
    "\n",
    "We will use `sum()` to calculate the total area of all the rectangles."
   ]
  },
  {
   "cell_type": "code",
   "execution_count": 67,
   "metadata": {},
   "outputs": [
    {
     "name": "stdout",
     "output_type": "stream",
     "text": [
      "75.32\n"
     ]
    }
   ],
   "source": [
    "# Your solution\n",
    "total_area = sum(shape_dimens)\n",
    "print(total_area)"
   ]
  },
  {
   "cell_type": "markdown",
   "metadata": {},
   "source": [
    "### TASK 3\n",
    "\n",
    "**Calculate total areas of the shapes with a width of atleast 3.0**\n",
    "\n",
    "We will initialize a variable to store the total area.\n",
    "\n",
    "We will loop through each of the nested lists.\n",
    "\n",
    "For each rectangle, whose width is greater than or equal to 3.0, we will add the area of the rectangle to the variable."
   ]
  },
  {
   "cell_type": "code",
   "execution_count": 68,
   "metadata": {},
   "outputs": [
    {
     "name": "stdout",
     "output_type": "stream",
     "text": [
      "55\n"
     ]
    }
   ],
   "source": [
    "# Your solution\n",
    "total_areas_width_greater_than_three = 0\n",
    "for shape in shapes:\n",
    "    if (shape[0] >= 3.0):\n",
    "        total_areas_width_greater_than_three += (shape[0] * shape[1])\n",
    "\n",
    "print(total_areas_width_greater_than_three)"
   ]
  },
  {
   "cell_type": "markdown",
   "metadata": {},
   "source": [
    "### Working with numpy arrays\n",
    "\n",
    "- Store the shapes as a matrix in the form of a ndarray.\n",
    "- Use the numpy API to perform numerical transformations."
   ]
  },
  {
   "cell_type": "code",
   "execution_count": 69,
   "metadata": {},
   "outputs": [
    {
     "data": {
      "text/plain": [
       "array([[ 4. ,  5. ],\n",
       "       [ 5. ,  5. ],\n",
       "       [10. ,  1. ],\n",
       "       [ 2.4,  4.5],\n",
       "       [ 1.7,  5.6]])"
      ]
     },
     "execution_count": 69,
     "metadata": {},
     "output_type": "execute_result"
    }
   ],
   "source": [
    "shapes_array = numpy.array(shapes)\n",
    "shapes_array"
   ]
  },
  {
   "cell_type": "markdown",
   "metadata": {},
   "source": [
    "### TASK 4\n",
    "\n",
    "**Calculate the areas of these shapes using ndarray**\n",
    "\n",
    "We will multiply the width and the height of each the rectangles using slicing and indexing."
   ]
  },
  {
   "cell_type": "code",
   "execution_count": 70,
   "metadata": {},
   "outputs": [
    {
     "name": "stdout",
     "output_type": "stream",
     "text": [
      "[20.   25.   10.   10.8   9.52]\n"
     ]
    }
   ],
   "source": [
    "# Your solution\n",
    "areas_array = shapes_array[:, 0] * shapes_array[:, 1]\n",
    "print(areas_array)"
   ]
  },
  {
   "cell_type": "markdown",
   "metadata": {},
   "source": [
    "### TASK 5\n",
    "\n",
    "**Calculate the total area of these shapes**\n",
    "\n",
    "We will multiply the width and the height of each the rectangles using slicing and indexing.\n",
    "\n",
    "We will pass this array of areas and add them using `numpy.sum()`."
   ]
  },
  {
   "cell_type": "code",
   "execution_count": 71,
   "metadata": {},
   "outputs": [
    {
     "name": "stdout",
     "output_type": "stream",
     "text": [
      "75.32\n"
     ]
    }
   ],
   "source": [
    "# Your solution\n",
    "print(areas_array.sum())"
   ]
  },
  {
   "cell_type": "markdown",
   "metadata": {},
   "source": [
    "### TASK 6\n",
    "\n",
    "**Calculate total areas of the shapes with a width of atleast `3.0`**\n",
    "\n",
    "We will slice the numpy 2D-array to fetch all rows and only first column (width).\n",
    "\n",
    "We will then extract only those rows (rectangles) whose width is greater than or equal to 3.0 using boolean indexing.\n",
    "\n",
    "For each rectangle, we will multiply the width and height using numpy product (specify the axis along which to preform the product)."
   ]
  },
  {
   "cell_type": "code",
   "execution_count": 72,
   "metadata": {},
   "outputs": [
    {
     "name": "stdout",
     "output_type": "stream",
     "text": [
      "55.0\n"
     ]
    }
   ],
   "source": [
    "# Your solution\n",
    "total_area_width_gt_three_array = 0\n",
    "array_w_gt_three = shapes_array[shapes_array[:,0] >= 3.0]\n",
    "total_areas_w_g_three = numpy.prod(array_w_gt_three, axis=1)\n",
    "print(total_areas_w_g_three.sum())"
   ]
  },
  {
   "cell_type": "markdown",
   "metadata": {},
   "source": [
    "### TASK 7\n",
    "**Selecting specific rows or columns**\n",
    "\n",
    "- Select all rows of `shapes_array`, but only its first column"
   ]
  },
  {
   "cell_type": "code",
   "execution_count": 73,
   "metadata": {},
   "outputs": [
    {
     "name": "stdout",
     "output_type": "stream",
     "text": [
      "[ 4.   5.  10.   2.4  1.7]\n"
     ]
    }
   ],
   "source": [
    "# Your solution\n",
    "first_column_arr = shapes_array[:,0]\n",
    "print(first_column_arr)"
   ]
  },
  {
   "cell_type": "markdown",
   "metadata": {},
   "source": [
    "- Select the second row of `shapes_array` (rectangle at index 1), and all its columns (width ad height)"
   ]
  },
  {
   "cell_type": "code",
   "execution_count": 74,
   "metadata": {},
   "outputs": [
    {
     "name": "stdout",
     "output_type": "stream",
     "text": [
      "[5. 5.]\n"
     ]
    }
   ],
   "source": [
    "# Your solution\n",
    "second_row_arr = shapes_array[1,:]\n",
    "print(second_row_arr)"
   ]
  },
  {
   "cell_type": "markdown",
   "metadata": {},
   "source": [
    "## Tutorial Report\n",
    "\n",
    "At the **end of this tutorial session**, you will deliver a report via Canvas. \n",
    "\n",
    "Your report will be the compiled version of this notebook with your solution. You **MUST** submit:\n",
    "- both the `ipynb` and (`PDF` or `HTML`) (`File/Download as><PDF/HTML>`) versions of this notebook.\n",
    "- both named `<lastname-firstname>-tutorial05`\n",
    "- Contain your Full name and student ID\n",
    "\n",
    "\n",
    "*Late tutorial submission policy:*\n",
    "- All tutorial reports are due at the **end of your tutorial session**.\n",
    "- Late tutorial reports will be accepted without penalty by (before) your next tutorial session, **no late reports will be accepted after**.\n",
    "\n",
    "*TA grading and feedback inquiries*\n",
    "- Your report grades will be posted via Canvas using the rubric provided by the instructor. You are encouraged to ask your TA on MS teams about feedback, as needed, as soon as your grades are published.\n"
   ]
  }
 ],
 "metadata": {
  "interpreter": {
   "hash": "4d8145424f0606d0327b3d24e452a83e842830274eac291e592cdbcf429ffd4b"
  },
  "kernelspec": {
   "display_name": "Python 3 (ipykernel)",
   "language": "python",
   "name": "python3"
  },
  "language_info": {
   "codemirror_mode": {
    "name": "ipython",
    "version": 3
   },
   "file_extension": ".py",
   "mimetype": "text/x-python",
   "name": "python",
   "nbconvert_exporter": "python",
   "pygments_lexer": "ipython3",
   "version": "3.8.12"
  }
 },
 "nbformat": 4,
 "nbformat_minor": 2
}
