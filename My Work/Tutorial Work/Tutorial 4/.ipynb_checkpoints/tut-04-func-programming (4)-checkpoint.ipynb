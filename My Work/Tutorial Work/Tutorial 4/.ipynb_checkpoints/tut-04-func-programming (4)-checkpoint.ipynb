{
 "cells": [
  {
   "cell_type": "markdown",
   "metadata": {},
   "source": [
    "# CSCI2000U - Scientific Data Analysis\n",
    "## Tutorial 04: Functional Programming \n",
    "\n",
    "**Goal**\n",
    "1. Applying functional analysis of the Boston housing dataset\n",
    "\n",
    "In this tutorial we will explore a the Boston housing dataset. You are given the code that loads the `json` file with the data. After loading the data, solve each of the tasks outlined in this document to complete you tutorial assignment.\n",
    "\n",
    "*Please note that you need to upload the dataset/json file into your jupyter notebook server and modify the path depending on the location where the file was uploaded.*\n",
    "\n",
    "- Importing libraries"
   ]
  },
  {
   "cell_type": "code",
   "execution_count": null,
   "metadata": {},
   "outputs": [],
   "source": [
    "import json\n",
    "from functools import reduce"
   ]
  },
  {
   "cell_type": "markdown",
   "metadata": {},
   "source": [
    "- loading the dataset into `data` from the `path`"
   ]
  },
  {
   "cell_type": "code",
   "execution_count": null,
   "metadata": {},
   "outputs": [],
   "source": [
    "path = 'boston_housing.json'\n",
    "with open(path) as f:\n",
    "    data = json.load(f)"
   ]
  },
  {
   "cell_type": "markdown",
   "metadata": {},
   "source": [
    "- exploring the keys of `data`"
   ]
  },
  {
   "cell_type": "code",
   "execution_count": null,
   "metadata": {},
   "outputs": [],
   "source": [
    "data.keys()"
   ]
  },
  {
   "cell_type": "markdown",
   "metadata": {},
   "source": [
    "- Accessing the data field `descr` which shows the name and description of each of the data columns. We can refer to them as *attributes*."
   ]
  },
  {
   "cell_type": "code",
   "execution_count": null,
   "metadata": {},
   "outputs": [],
   "source": [
    "data['descr']"
   ]
  },
  {
   "cell_type": "markdown",
   "metadata": {},
   "source": [
    "- accessing the data field `rows`"
   ]
  },
  {
   "cell_type": "code",
   "execution_count": null,
   "metadata": {},
   "outputs": [],
   "source": [
    "rows = data['rows']\n",
    "len(rows)"
   ]
  },
  {
   "cell_type": "markdown",
   "metadata": {},
   "source": [
    "- To access a data field/column of a given row, we can use \n",
    "```\n",
    "rows[<row index>][<attribute name>]\n",
    "``` \n",
    "See example:"
   ]
  },
  {
   "cell_type": "code",
   "execution_count": null,
   "metadata": {},
   "outputs": [],
   "source": [
    "rows[0]['PRICE']"
   ]
  },
  {
   "cell_type": "markdown",
   "metadata": {},
   "source": [
    "### TASK 1\n",
    "\n",
    "**Compute the average price of all houses**\n",
    "\n",
    " We will use reduce because we are converting a list of elements into a single number\n",
    "\n",
    " We want to compute the total first, and divide by `len(rows)`. Store the result in `average_price`."
   ]
  },
  {
   "cell_type": "code",
   "execution_count": 2,
   "metadata": {},
   "outputs": [],
   "source": [
    "# Your solution\n",
    "# n(rows)\n",
    "import json\n",
    "from functools import reduce\n",
    "\n",
    "path = 'boston_housing.json'\n",
    "with open(path) as f:\n",
    "    data = json.load(f)\n",
    "\n",
    "rows = data['rows']\n",
    "def get_prices(x, y):\n",
    "    return x + y['PRICE']\n",
    "    \n",
    "total = reduce(get_prices, rows, 0)\n",
    "\n",
    "average_price = total / len(rows)"
   ]
  },
  {
   "cell_type": "code",
   "execution_count": 3,
   "metadata": {},
   "outputs": [
    {
     "name": "stdout",
     "output_type": "stream",
     "text": [
      "AVERAGE PRICE:  22.532806324110698\n"
     ]
    }
   ],
   "source": [
    "print(\"AVERAGE PRICE: \", average_price)"
   ]
  },
  {
   "cell_type": "markdown",
   "metadata": {},
   "source": [
    "### TASK 2\n",
    "**Find the houses that are *under* the average price.**\n",
    "\n",
    "We should create a predicate function to the test if the price is under `average_price`.\n",
    "\n",
    "Then, display the first 3 results as a list using `filter`"
   ]
  },
  {
   "cell_type": "code",
   "execution_count": 4,
   "metadata": {},
   "outputs": [],
   "source": [
    "# \n",
    "# Find the houses that are *under* the average price.ce\n",
    "def is_under_avg(n):\n",
    "    return n['PRICE'] < average_price\n",
    "\n",
    "under_avg_houses = list(filter(is_under_avg, rows))\n",
    "    "
   ]
  },
  {
   "cell_type": "code",
   "execution_count": 5,
   "metadata": {},
   "outputs": [
    {
     "name": "stdout",
     "output_type": "stream",
     "text": [
      "[{'CRIM': 0.02731, 'ZN': 0.0, 'INDUS': 7.07, 'CHAS': 0.0, 'NOX': 0.469, 'RM': 6.421, 'AGE': 78.9, 'DIS': 4.9671, 'RAD': 2.0, 'TAX': 242.0, 'PTRATIO': 17.8, 'B': 396.9, 'LSTAT': 9.14, 'PRICE': 21.6}, {'CRIM': 0.21124, 'ZN': 12.5, 'INDUS': 7.87, 'CHAS': 0.0, 'NOX': 0.524, 'RM': 5.631, 'AGE': 100.0, 'DIS': 6.0821, 'RAD': 5.0, 'TAX': 311.0, 'PTRATIO': 15.2, 'B': 386.63, 'LSTAT': 29.93, 'PRICE': 16.5}, {'CRIM': 0.17004, 'ZN': 12.5, 'INDUS': 7.87, 'CHAS': 0.0, 'NOX': 0.524, 'RM': 6.004, 'AGE': 85.9, 'DIS': 6.5921, 'RAD': 5.0, 'TAX': 311.0, 'PTRATIO': 15.2, 'B': 386.71, 'LSTAT': 17.1, 'PRICE': 18.9}]\n"
     ]
    }
   ],
   "source": [
    "# List three houses that are UNDER the average price.\n",
    "print(under_avg_houses[:3])"
   ]
  },
  {
   "cell_type": "markdown",
   "metadata": {},
   "source": [
    "### TASK 3\n",
    "**Find the houses with prices *between* `average_price-std_dev` and `average_price-std_dev` where `std_dev` is the standand deviation.**\n",
    "\n",
    ">standard deviation = square root of `variance`\n",
    "\n",
    "> variance = [sum of (`house[\"PRICE\"]` - `average_price`) ** 2] / `len(houses)`\n",
    "\n",
    "Strategy\n",
    "1. We will use `reduce` because we are converting a list of elements into a single number `sum_variance`.\n",
    "2. We want to compute `sum_variance` first, and divide it by `len(rows)`. Store the result in `variance_price`.\n",
    "3. We can use the `variance_price` to calculate the `std_dev`.\n",
    "4. We should create a predicate function to the test if the price is between `average_price` more or less the `std_dev`.\n",
    "\n",
    "Then, display the first 3 results as a list using `filter`."
   ]
  },
  {
   "cell_type": "code",
   "execution_count": 12,
   "metadata": {},
   "outputs": [
    {
     "name": "stdout",
     "output_type": "stream",
     "text": [
      "9.188011545278206\n"
     ]
    }
   ],
   "source": [
    "# Calculate the varaice / std_dev\n",
    "import math\n",
    "def sum_fn(x, y):\n",
    "    return x + (y['PRICE'] - average_price)**2\n",
    "    \n",
    "sum_variance = (reduce(sum_fn, rows, 0))\n",
    "variance_price = sum_variance / len(rows)\n",
    "std_dev = math.sqrt(variance_price)\n",
    "print(std_dev)"
   ]
  },
  {
   "cell_type": "code",
   "execution_count": 13,
   "metadata": {},
   "outputs": [],
   "source": [
    "# Find house prices between average_price -/+ std_dev\n",
    "def is_within_std_dev(n):\n",
    "    return (n['PRICE'] < (average_price + std_dev) and n['PRICE'] > (average_price - std_dev))"
   ]
  },
  {
   "cell_type": "code",
   "execution_count": 14,
   "metadata": {},
   "outputs": [
    {
     "name": "stdout",
     "output_type": "stream",
     "text": [
      "[{'CRIM': 0.00632, 'ZN': 18.0, 'INDUS': 2.31, 'CHAS': 0.0, 'NOX': 0.538, 'RM': 6.575, 'AGE': 65.2, 'DIS': 4.09, 'RAD': 1.0, 'TAX': 296.0, 'PTRATIO': 15.3, 'B': 396.9, 'LSTAT': 4.98, 'PRICE': 24.0}, {'CRIM': 0.02731, 'ZN': 0.0, 'INDUS': 7.07, 'CHAS': 0.0, 'NOX': 0.469, 'RM': 6.421, 'AGE': 78.9, 'DIS': 4.9671, 'RAD': 2.0, 'TAX': 242.0, 'PTRATIO': 17.8, 'B': 396.9, 'LSTAT': 9.14, 'PRICE': 21.6}, {'CRIM': 0.02985, 'ZN': 0.0, 'INDUS': 2.18, 'CHAS': 0.0, 'NOX': 0.458, 'RM': 6.43, 'AGE': 58.7, 'DIS': 6.0622, 'RAD': 3.0, 'TAX': 222.0, 'PTRATIO': 18.7, 'B': 394.12, 'LSTAT': 5.21, 'PRICE': 28.7}]\n"
     ]
    }
   ],
   "source": [
    "# List first 3 houses with prices between average_price-std_dev and average_price+std_dev\n",
    "average_houses = list(filter(is_within_std_dev, rows))\n",
    "print(average_houses[:3])"
   ]
  },
  {
   "cell_type": "markdown",
   "metadata": {},
   "source": [
    "### TASK 4\n",
    "\n",
    "**Generate a report of CRIME and PRICE for the 297 houses that are below average.**\n",
    "\n",
    "The `houses` should be sorted by `PRICE`. \n",
    "\n",
    "The result should be reported using the format: `\"CRIME: %.2f, ROOMS: %d, PRICE: %.2f\"`\n",
    "\n",
    "Strategy:\n",
    " - Use filter from **Task 2** to get the `houses` below average.\n",
    " - Sorted the `houses` using \n",
    "<!--          ``` -->\n",
    "         sorted(<iterable>, key=<key>)\n",
    "<!--          ``` -->\n",
    " - Use `map` to map each of the houses to a report message.\n",
    " \n",
    " Reference for `sorted` function: https://www.w3schools.com/python/ref_func_sorted.asp"
   ]
  },
  {
   "cell_type": "code",
   "execution_count": 25,
   "metadata": {},
   "outputs": [],
   "source": [
    "# report message\n",
    "report = \"CRIME: %.2f, ROOMS: %d, PRICE: %.2f\""
   ]
  },
  {
   "cell_type": "code",
   "execution_count": 28,
   "metadata": {},
   "outputs": [
    {
     "name": "stdout",
     "output_type": "stream",
     "text": [
      "['CRIME: 38.35, ROOMS: 5, PRICE: 5.00', 'CRIME: 67.92, ROOMS: 5, PRICE: 5.00', 'CRIME: 25.05, ROOMS: 5, PRICE: 5.60', 'CRIME: 9.92, ROOMS: 5, PRICE: 6.30', 'CRIME: 45.75, ROOMS: 4, PRICE: 7.00', 'CRIME: 0.18, ROOMS: 5, PRICE: 7.00', 'CRIME: 16.81, ROOMS: 5, PRICE: 7.20', 'CRIME: 14.24, ROOMS: 6, PRICE: 7.20', 'CRIME: 18.08, ROOMS: 6, PRICE: 7.20', 'CRIME: 22.60, ROOMS: 5, PRICE: 7.40', 'CRIME: 10.83, ROOMS: 6, PRICE: 7.50', 'CRIME: 0.21, ROOMS: 5, PRICE: 8.10', 'CRIME: 24.80, ROOMS: 5, PRICE: 8.30', 'CRIME: 15.86, ROOMS: 5, PRICE: 8.30', 'CRIME: 11.81, ROOMS: 6, PRICE: 8.40', 'CRIME: 13.68, ROOMS: 5, PRICE: 8.40', 'CRIME: 7.67, ROOMS: 5, PRICE: 8.50', 'CRIME: 41.53, ROOMS: 5, PRICE: 8.50', 'CRIME: 15.18, ROOMS: 6, PRICE: 8.70', 'CRIME: 20.08, ROOMS: 4, PRICE: 8.80', 'CRIME: 73.53, ROOMS: 5, PRICE: 8.80', 'CRIME: 9.34, ROOMS: 6, PRICE: 9.50', 'CRIME: 14.42, ROOMS: 6, PRICE: 9.60', 'CRIME: 11.58, ROOMS: 5, PRICE: 9.70', 'CRIME: 17.87, ROOMS: 6, PRICE: 10.20', 'CRIME: 14.33, ROOMS: 4, PRICE: 10.20', 'CRIME: 12.25, ROOMS: 5, PRICE: 10.20', 'CRIME: 88.98, ROOMS: 6, PRICE: 10.40', 'CRIME: 25.94, ROOMS: 5, PRICE: 10.40', 'CRIME: 24.39, ROOMS: 4, PRICE: 10.50', 'CRIME: 22.05, ROOMS: 5, PRICE: 10.50', 'CRIME: 12.80, ROOMS: 5, PRICE: 10.80', 'CRIME: 15.87, ROOMS: 6, PRICE: 10.90', 'CRIME: 37.66, ROOMS: 6, PRICE: 10.90', 'CRIME: 7.37, ROOMS: 6, PRICE: 11.00', 'CRIME: 9.19, ROOMS: 5, PRICE: 11.30', 'CRIME: 8.15, ROOMS: 5, PRICE: 11.50', 'CRIME: 8.79, ROOMS: 5, PRICE: 11.70', 'CRIME: 13.91, ROOMS: 6, PRICE: 11.70', 'CRIME: 2.78, ROOMS: 4, PRICE: 11.80', 'CRIME: 10.67, ROOMS: 6, PRICE: 11.80', 'CRIME: 20.72, ROOMS: 4, PRICE: 11.90', 'CRIME: 0.05, ROOMS: 6, PRICE: 11.90', 'CRIME: 15.02, ROOMS: 5, PRICE: 12.00', 'CRIME: 9.60, ROOMS: 6, PRICE: 12.10', 'CRIME: 7.99, ROOMS: 5, PRICE: 12.30', 'CRIME: 5.87, ROOMS: 6, PRICE: 12.50', 'CRIME: 9.92, ROOMS: 6, PRICE: 12.60', 'CRIME: 1.13, ROOMS: 5, PRICE: 12.70', 'CRIME: 13.36, ROOMS: 5, PRICE: 12.70', 'CRIME: 4.67, ROOMS: 5, PRICE: 12.70', 'CRIME: 9.39, ROOMS: 5, PRICE: 12.80', 'CRIME: 7.53, ROOMS: 6, PRICE: 13.00', 'CRIME: 1.15, ROOMS: 5, PRICE: 13.10', 'CRIME: 2.45, ROOMS: 5, PRICE: 13.10', 'CRIME: 23.65, ROOMS: 6, PRICE: 13.10', 'CRIME: 8.72, ROOMS: 6, PRICE: 13.10', 'CRIME: 1.39, ROOMS: 5, PRICE: 13.20', 'CRIME: 0.25, ROOMS: 5, PRICE: 13.30', 'CRIME: 9.82, ROOMS: 6, PRICE: 13.30', 'CRIME: 6.39, ROOMS: 6, PRICE: 13.30', 'CRIME: 3.32, ROOMS: 5, PRICE: 13.40', 'CRIME: 7.05, ROOMS: 6, PRICE: 13.40', 'CRIME: 11.16, ROOMS: 6, PRICE: 13.40', 'CRIME: 6.72, ROOMS: 6, PRICE: 13.40', 'CRIME: 1.61, ROOMS: 6, PRICE: 13.50', 'CRIME: 8.20, ROOMS: 5, PRICE: 13.50', 'CRIME: 1.25, ROOMS: 5, PRICE: 13.60', 'CRIME: 0.11, ROOMS: 5, PRICE: 13.60', 'CRIME: 2.38, ROOMS: 6, PRICE: 13.80', 'CRIME: 11.11, ROOMS: 4, PRICE: 13.80', 'CRIME: 18.50, ROOMS: 4, PRICE: 13.80', 'CRIME: 8.64, ROOMS: 6, PRICE: 13.80', 'CRIME: 8.06, ROOMS: 5, PRICE: 13.80', 'CRIME: 0.84, ROOMS: 5, PRICE: 13.90', 'CRIME: 15.29, ROOMS: 6, PRICE: 13.90', 'CRIME: 0.29, ROOMS: 6, PRICE: 14.00', 'CRIME: 10.06, ROOMS: 6, PRICE: 14.10', 'CRIME: 9.33, ROOMS: 6, PRICE: 14.10', 'CRIME: 4.75, ROOMS: 6, PRICE: 14.10', 'CRIME: 7.02, ROOMS: 6, PRICE: 14.20', 'CRIME: 0.88, ROOMS: 5, PRICE: 14.30', 'CRIME: 5.58, ROOMS: 6, PRICE: 14.30', 'CRIME: 0.25, ROOMS: 5, PRICE: 14.40', 'CRIME: 1.63, ROOMS: 5, PRICE: 14.40', 'CRIME: 0.99, ROOMS: 5, PRICE: 14.50', 'CRIME: 1.35, ROOMS: 6, PRICE: 14.50', 'CRIME: 8.49, ROOMS: 6, PRICE: 14.50', 'CRIME: 2.37, ROOMS: 4, PRICE: 14.60', 'CRIME: 10.23, ROOMS: 6, PRICE: 14.60', 'CRIME: 0.96, ROOMS: 6, PRICE: 14.80', 'CRIME: 6.29, ROOMS: 6, PRICE: 14.90', 'CRIME: 9.51, ROOMS: 6, PRICE: 14.90', 'CRIME: 7.75, ROOMS: 6, PRICE: 14.90', 'CRIME: 0.22, ROOMS: 6, PRICE: 15.00', 'CRIME: 19.61, ROOMS: 7, PRICE: 15.00', 'CRIME: 51.14, ROOMS: 5, PRICE: 15.00', 'CRIME: 6.96, ROOMS: 5, PRICE: 15.10', 'CRIME: 1.23, ROOMS: 6, PRICE: 15.20', 'CRIME: 5.44, ROOMS: 6, PRICE: 15.20', 'CRIME: 0.15, ROOMS: 5, PRICE: 15.20', 'CRIME: 1.13, ROOMS: 5, PRICE: 15.30', 'CRIME: 2.73, ROOMS: 5, PRICE: 15.40', 'CRIME: 9.97, ROOMS: 6, PRICE: 15.40', 'CRIME: 0.75, ROOMS: 5, PRICE: 15.60', 'CRIME: 0.98, ROOMS: 5, PRICE: 15.60', 'CRIME: 4.10, ROOMS: 5, PRICE: 15.60', 'CRIME: 2.16, ROOMS: 5, PRICE: 15.60', 'CRIME: 3.54, ROOMS: 6, PRICE: 15.60', 'CRIME: 0.39, ROOMS: 5, PRICE: 15.70', 'CRIME: 0.17, ROOMS: 5, PRICE: 16.00', 'CRIME: 2.64, ROOMS: 4, PRICE: 16.10', 'CRIME: 6.44, ROOMS: 6, PRICE: 16.10', 'CRIME: 5.09, ROOMS: 6, PRICE: 16.10', 'CRIME: 0.26, ROOMS: 5, PRICE: 16.20', 'CRIME: 0.25, ROOMS: 5, PRICE: 16.20', 'CRIME: 28.66, ROOMS: 5, PRICE: 16.30', 'CRIME: 4.81, ROOMS: 6, PRICE: 16.40', 'CRIME: 0.21, ROOMS: 5, PRICE: 16.50', 'CRIME: 0.02, ROOMS: 6, PRICE: 16.50', 'CRIME: 0.67, ROOMS: 5, PRICE: 16.60', 'CRIME: 0.23, ROOMS: 6, PRICE: 16.60', 'CRIME: 11.09, ROOMS: 6, PRICE: 16.70', 'CRIME: 4.87, ROOMS: 6, PRICE: 16.70', 'CRIME: 4.22, ROOMS: 5, PRICE: 16.80', 'CRIME: 0.22, ROOMS: 6, PRICE: 16.80', 'CRIME: 1.41, ROOMS: 6, PRICE: 17.00', 'CRIME: 0.35, ROOMS: 6, PRICE: 17.10', 'CRIME: 0.05, ROOMS: 5, PRICE: 17.10', 'CRIME: 9.72, ROOMS: 6, PRICE: 17.10', 'CRIME: 0.06, ROOMS: 5, PRICE: 17.20', 'CRIME: 7.40, ROOMS: 5, PRICE: 17.20', 'CRIME: 14.05, ROOMS: 6, PRICE: 17.20', 'CRIME: 0.15, ROOMS: 5, PRICE: 17.30', 'CRIME: 0.14, ROOMS: 5, PRICE: 17.40', 'CRIME: 0.32, ROOMS: 5, PRICE: 17.40', 'CRIME: 1.21, ROOMS: 5, PRICE: 17.40', 'CRIME: 0.78, ROOMS: 5, PRICE: 17.50', 'CRIME: 0.03, ROOMS: 6, PRICE: 17.50', 'CRIME: 0.18, ROOMS: 5, PRICE: 17.50', 'CRIME: 0.21, ROOMS: 5, PRICE: 17.60', 'CRIME: 3.69, ROOMS: 6, PRICE: 17.70', 'CRIME: 0.54, ROOMS: 6, PRICE: 17.80', 'CRIME: 2.33, ROOMS: 5, PRICE: 17.80', 'CRIME: 0.32, ROOMS: 5, PRICE: 17.80', 'CRIME: 8.98, ROOMS: 6, PRICE: 17.80', 'CRIME: 8.25, ROOMS: 7, PRICE: 17.80', 'CRIME: 18.81, ROOMS: 4, PRICE: 17.90', 'CRIME: 0.33, ROOMS: 6, PRICE: 18.00', 'CRIME: 0.56, ROOMS: 6, PRICE: 18.10', 'CRIME: 0.64, ROOMS: 6, PRICE: 18.20', 'CRIME: 0.73, ROOMS: 5, PRICE: 18.20', 'CRIME: 0.04, ROOMS: 5, PRICE: 18.20', 'CRIME: 0.17, ROOMS: 5, PRICE: 18.30', 'CRIME: 0.27, ROOMS: 5, PRICE: 18.30', 'CRIME: 0.77, ROOMS: 6, PRICE: 18.40', 'CRIME: 0.33, ROOMS: 5, PRICE: 18.40', 'CRIME: 5.67, ROOMS: 6, PRICE: 18.40', 'CRIME: 0.14, ROOMS: 6, PRICE: 18.50', 'CRIME: 0.19, ROOMS: 5, PRICE: 18.50', 'CRIME: 0.28, ROOMS: 5, PRICE: 18.50', 'CRIME: 0.03, ROOMS: 5, PRICE: 18.50', 'CRIME: 0.23, ROOMS: 6, PRICE: 18.60', 'CRIME: 0.07, ROOMS: 5, PRICE: 18.60', 'CRIME: 0.15, ROOMS: 5, PRICE: 18.70', 'CRIME: 0.22, ROOMS: 6, PRICE: 18.70', 'CRIME: 0.06, ROOMS: 5, PRICE: 18.70', 'CRIME: 0.12, ROOMS: 5, PRICE: 18.80', 'CRIME: 0.10, ROOMS: 5, PRICE: 18.80', 'CRIME: 0.17, ROOMS: 6, PRICE: 18.90', 'CRIME: 0.12, ROOMS: 6, PRICE: 18.90', 'CRIME: 0.06, ROOMS: 5, PRICE: 18.90', 'CRIME: 0.01, ROOMS: 5, PRICE: 18.90', 'CRIME: 0.05, ROOMS: 5, PRICE: 19.00', 'CRIME: 3.77, ROOMS: 5, PRICE: 19.00', 'CRIME: 2.31, ROOMS: 5, PRICE: 19.10', 'CRIME: 4.42, ROOMS: 6, PRICE: 19.10', 'CRIME: 15.58, ROOMS: 5, PRICE: 19.10', 'CRIME: 5.69, ROOMS: 6, PRICE: 19.10', 'CRIME: 0.15, ROOMS: 6, PRICE: 19.20', 'CRIME: 0.34, ROOMS: 6, PRICE: 19.20', 'CRIME: 0.17, ROOMS: 5, PRICE: 19.30', 'CRIME: 0.21, ROOMS: 6, PRICE: 19.30', 'CRIME: 0.14, ROOMS: 5, PRICE: 19.30', 'CRIME: 0.38, ROOMS: 5, PRICE: 19.30', 'CRIME: 0.07, ROOMS: 5, PRICE: 19.30', 'CRIME: 0.22, ROOMS: 5, PRICE: 19.40', 'CRIME: 0.04, ROOMS: 5, PRICE: 19.40', 'CRIME: 0.26, ROOMS: 6, PRICE: 19.40', 'CRIME: 2.15, ROOMS: 5, PRICE: 19.40', 'CRIME: 0.26, ROOMS: 6, PRICE: 19.40', 'CRIME: 0.03, ROOMS: 6, PRICE: 19.40', 'CRIME: 0.13, ROOMS: 5, PRICE: 19.50', 'CRIME: 0.17, ROOMS: 5, PRICE: 19.50', 'CRIME: 0.03, ROOMS: 5, PRICE: 19.50', 'CRIME: 6.65, ROOMS: 6, PRICE: 19.50', 'CRIME: 0.85, ROOMS: 5, PRICE: 19.60', 'CRIME: 0.10, ROOMS: 5, PRICE: 19.60', 'CRIME: 1.19, ROOMS: 6, PRICE: 19.60', 'CRIME: 1.50, ROOMS: 5, PRICE: 19.60', 'CRIME: 4.04, ROOMS: 6, PRICE: 19.60', 'CRIME: 0.09, ROOMS: 5, PRICE: 19.70', 'CRIME: 0.29, ROOMS: 5, PRICE: 19.70', 'CRIME: 0.13, ROOMS: 6, PRICE: 19.80', 'CRIME: 0.25, ROOMS: 5, PRICE: 19.80', 'CRIME: 0.05, ROOMS: 6, PRICE: 19.80', 'CRIME: 0.63, ROOMS: 5, PRICE: 19.90', 'CRIME: 3.84, ROOMS: 6, PRICE: 19.90', 'CRIME: 3.16, ROOMS: 5, PRICE: 19.90', 'CRIME: 4.35, ROOMS: 6, PRICE: 19.90', 'CRIME: 0.10, ROOMS: 5, PRICE: 20.00', 'CRIME: 0.19, ROOMS: 5, PRICE: 20.00', 'CRIME: 0.10, ROOMS: 6, PRICE: 20.00', 'CRIME: 0.44, ROOMS: 5, PRICE: 20.00', 'CRIME: 6.80, ROOMS: 6, PRICE: 20.00', 'CRIME: 0.14, ROOMS: 6, PRICE: 20.10', 'CRIME: 0.11, ROOMS: 6, PRICE: 20.10', 'CRIME: 0.02, ROOMS: 6, PRICE: 20.10', 'CRIME: 13.08, ROOMS: 5, PRICE: 20.10', 'CRIME: 0.11, ROOMS: 5, PRICE: 20.10', 'CRIME: 0.80, ROOMS: 5, PRICE: 20.20', 'CRIME: 5.82, ROOMS: 6, PRICE: 20.20', 'CRIME: 0.08, ROOMS: 5, PRICE: 20.30', 'CRIME: 0.07, ROOMS: 6, PRICE: 20.30', 'CRIME: 0.14, ROOMS: 5, PRICE: 20.30', 'CRIME: 0.35, ROOMS: 5, PRICE: 20.30', 'CRIME: 0.63, ROOMS: 5, PRICE: 20.40', 'CRIME: 0.13, ROOMS: 6, PRICE: 20.40', 'CRIME: 0.13, ROOMS: 5, PRICE: 20.40', 'CRIME: 0.35, ROOMS: 6, PRICE: 20.40', 'CRIME: 0.04, ROOMS: 6, PRICE: 20.50', 'CRIME: 0.09, ROOMS: 5, PRICE: 20.50', 'CRIME: 0.20, ROOMS: 6, PRICE: 20.50', 'CRIME: 0.04, ROOMS: 6, PRICE: 20.60', 'CRIME: 0.03, ROOMS: 6, PRICE: 20.60', 'CRIME: 0.11, ROOMS: 5, PRICE: 20.60', 'CRIME: 2.38, ROOMS: 5, PRICE: 20.60', 'CRIME: 4.84, ROOMS: 5, PRICE: 20.60', 'CRIME: 0.05, ROOMS: 6, PRICE: 20.60', 'CRIME: 0.09, ROOMS: 5, PRICE: 20.70', 'CRIME: 0.04, ROOMS: 6, PRICE: 20.70', 'CRIME: 0.09, ROOMS: 6, PRICE: 20.80', 'CRIME: 3.68, ROOMS: 5, PRICE: 20.80', 'CRIME: 12.05, ROOMS: 5, PRICE: 20.80', 'CRIME: 0.13, ROOMS: 5, PRICE: 20.90', 'CRIME: 0.04, ROOMS: 5, PRICE: 20.90', 'CRIME: 1.00, ROOMS: 6, PRICE: 21.00', 'CRIME: 0.08, ROOMS: 5, PRICE: 21.00', 'CRIME: 0.48, ROOMS: 6, PRICE: 21.00', 'CRIME: 0.30, ROOMS: 5, PRICE: 21.10', 'CRIME: 0.04, ROOMS: 6, PRICE: 21.10', 'CRIME: 0.12, ROOMS: 6, PRICE: 21.20', 'CRIME: 0.06, ROOMS: 6, PRICE: 21.20', 'CRIME: 0.13, ROOMS: 6, PRICE: 21.20', 'CRIME: 3.67, ROOMS: 6, PRICE: 21.20', 'CRIME: 0.24, ROOMS: 6, PRICE: 21.20', 'CRIME: 0.10, ROOMS: 6, PRICE: 21.40', 'CRIME: 0.12, ROOMS: 6, PRICE: 21.40', 'CRIME: 0.17, ROOMS: 5, PRICE: 21.40', 'CRIME: 7.84, ROOMS: 6, PRICE: 21.40', 'CRIME: 14.33, ROOMS: 6, PRICE: 21.40', 'CRIME: 1.66, ROOMS: 6, PRICE: 21.50', 'CRIME: 0.11, ROOMS: 5, PRICE: 21.50', 'CRIME: 0.03, ROOMS: 6, PRICE: 21.60', 'CRIME: 0.27, ROOMS: 6, PRICE: 21.60', 'CRIME: 0.09, ROOMS: 5, PRICE: 21.70', 'CRIME: 0.16, ROOMS: 5, PRICE: 21.70', 'CRIME: 0.11, ROOMS: 6, PRICE: 21.70', 'CRIME: 0.17, ROOMS: 5, PRICE: 21.70', 'CRIME: 0.41, ROOMS: 6, PRICE: 21.70', 'CRIME: 0.08, ROOMS: 6, PRICE: 21.70', 'CRIME: 3.85, ROOMS: 6, PRICE: 21.70', 'CRIME: 2.82, ROOMS: 5, PRICE: 21.80', 'CRIME: 0.17, ROOMS: 5, PRICE: 21.80', 'CRIME: 0.05, ROOMS: 6, PRICE: 21.90', 'CRIME: 3.47, ROOMS: 8, PRICE: 21.90', 'CRIME: 3.70, ROOMS: 4, PRICE: 21.90', 'CRIME: 0.06, ROOMS: 5, PRICE: 22.00', 'CRIME: 0.04, ROOMS: 6, PRICE: 22.00', 'CRIME: 0.07, ROOMS: 5, PRICE: 22.00', 'CRIME: 0.11, ROOMS: 6, PRICE: 22.00', 'CRIME: 0.01, ROOMS: 6, PRICE: 22.00', 'CRIME: 0.04, ROOMS: 6, PRICE: 22.00', 'CRIME: 0.11, ROOMS: 6, PRICE: 22.00', 'CRIME: 0.79, ROOMS: 6, PRICE: 22.10', 'CRIME: 0.11, ROOMS: 6, PRICE: 22.20', 'CRIME: 0.07, ROOMS: 6, PRICE: 22.20', 'CRIME: 0.10, ROOMS: 6, PRICE: 22.20', 'CRIME: 0.24, ROOMS: 6, PRICE: 22.20', 'CRIME: 0.05, ROOMS: 6, PRICE: 22.20', 'CRIME: 2.45, ROOMS: 6, PRICE: 22.30', 'CRIME: 0.05, ROOMS: 6, PRICE: 22.30', 'CRIME: 0.22, ROOMS: 5, PRICE: 22.40', 'CRIME: 0.06, ROOMS: 6, PRICE: 22.40', 'CRIME: 0.05, ROOMS: 6, PRICE: 22.50', 'CRIME: 0.25, ROOMS: 5, PRICE: 22.50', 'CRIME: 0.06, ROOMS: 6, PRICE: 22.50']\n"
     ]
    }
   ],
   "source": [
    "# 1. Get the list of houses\n",
    "def is_under_avg(n):\n",
    "    return n['PRICE'] < average_price\n",
    "\n",
    "under_avg_houses = list(filter(is_under_avg, rows))\n",
    "\n",
    "# 2. Sort by their price\n",
    "def sort_by_price(n):\n",
    "    return n['PRICE']\n",
    "\n",
    "price_sorted = sorted(under_avg_houses, key=sort_by_price)\n",
    "\n",
    "# 3. Generate the report of the houses souses))\n",
    "def get_report(n):\n",
    "    return report % (n['CRIM'], n['RM'], n['PRICE'])\n",
    "    \n",
    "houses_w_reports = map(get_report, price_sorted)\n",
    "print(list(houses_w_reports))"
   ]
  },
  {
   "cell_type": "markdown",
   "metadata": {},
   "source": [
    "## Tutorial Report\n",
    "\n",
    "At the **end of this tutorial session**, you will deliver a report via Canvas. \n",
    "\n",
    "Your report will be the compiled version of this notebook with your solution. You **MUST** submit:\n",
    "- both the `ipynb` and `PDF` (`File/Download as>PDF`) versions of this notebook.\n",
    "- both named `<lastname-firstname>-tutorial04`\n",
    "- Contain your Full name and student ID\n",
    "\n",
    "\n",
    "*Late tutorial submission policy:*\n",
    "- All tutorial reports are due at the **end of your tutorial session**.\n",
    "- Late tutorial reports will be accepted without penalty by (before) your next tutorial session, **no late reports will be accepted after**.\n",
    "\n",
    "*TA grading and feedback inquiries*\n",
    "- Your report grades will be posted via Canvas using the rubric provided by the instructor. You are encouraged to ask your TA on MS teams about feedback, as needed, as soon as your grades are published.\n"
   ]
  },
  {
   "cell_type": "code",
   "execution_count": null,
   "metadata": {},
   "outputs": [],
   "source": []
  }
 ],
 "metadata": {
  "interpreter": {
   "hash": "815240bfca2d314df7130257296817be1ab89fca494ddc030e9972579f2d9bf1"
  },
  "kernelspec": {
   "display_name": "Python 3 (ipykernel)",
   "language": "python",
   "name": "python3"
  },
  "language_info": {
   "codemirror_mode": {
    "name": "ipython",
    "version": 3
   },
   "file_extension": ".py",
   "mimetype": "text/x-python",
   "name": "python",
   "nbconvert_exporter": "python",
   "pygments_lexer": "ipython3",
   "version": "3.8.12"
  }
 },
 "nbformat": 4,
 "nbformat_minor": 4
}
